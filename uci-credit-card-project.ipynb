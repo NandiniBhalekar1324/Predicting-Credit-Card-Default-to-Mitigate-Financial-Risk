{
 "cells": [
  {
   "cell_type": "markdown",
   "id": "9d1ad227",
   "metadata": {
    "papermill": {
     "duration": 0.00936,
     "end_time": "2025-09-15T11:00:46.839030",
     "exception": false,
     "start_time": "2025-09-15T11:00:46.829670",
     "status": "completed"
    },
    "tags": []
   },
   "source": [
    "**🔹 Step 1: Import necessary libraries and dataset**\n"
   ]
  },
  {
   "cell_type": "code",
   "execution_count": 1,
   "id": "24935638",
   "metadata": {
    "execution": {
     "iopub.execute_input": "2025-09-15T11:00:46.857084Z",
     "iopub.status.busy": "2025-09-15T11:00:46.856764Z",
     "iopub.status.idle": "2025-09-15T11:00:46.866456Z",
     "shell.execute_reply": "2025-09-15T11:00:46.865623Z"
    },
    "papermill": {
     "duration": 0.020722,
     "end_time": "2025-09-15T11:00:46.868293",
     "exception": false,
     "start_time": "2025-09-15T11:00:46.847571",
     "status": "completed"
    },
    "tags": []
   },
   "outputs": [
    {
     "data": {
      "text/plain": [
       "['uci-credit-card-dataset']"
      ]
     },
     "execution_count": 1,
     "metadata": {},
     "output_type": "execute_result"
    }
   ],
   "source": [
    "import os\n",
    "os.listdir(\"/kaggle/input\")\n"
   ]
  },
  {
   "cell_type": "code",
   "execution_count": 2,
   "id": "171fbace",
   "metadata": {
    "execution": {
     "iopub.execute_input": "2025-09-15T11:00:46.887430Z",
     "iopub.status.busy": "2025-09-15T11:00:46.886789Z",
     "iopub.status.idle": "2025-09-15T11:00:46.893807Z",
     "shell.execute_reply": "2025-09-15T11:00:46.892977Z"
    },
    "papermill": {
     "duration": 0.01841,
     "end_time": "2025-09-15T11:00:46.895257",
     "exception": false,
     "start_time": "2025-09-15T11:00:46.876847",
     "status": "completed"
    },
    "tags": []
   },
   "outputs": [
    {
     "data": {
      "text/plain": [
       "['UCI_Credit_Card.csv']"
      ]
     },
     "execution_count": 2,
     "metadata": {},
     "output_type": "execute_result"
    }
   ],
   "source": [
    "import os\n",
    "os.listdir(\"/kaggle/input/uci-credit-card-dataset\")\n"
   ]
  },
  {
   "cell_type": "code",
   "execution_count": 3,
   "id": "081da6bc",
   "metadata": {
    "_cell_guid": "b1076dfc-b9ad-4769-8c92-a6c4dae69d19",
    "_uuid": "8f2839f25d086af736a60e9eeb907d3b93b6e0e5",
    "execution": {
     "iopub.execute_input": "2025-09-15T11:00:46.913625Z",
     "iopub.status.busy": "2025-09-15T11:00:46.913262Z",
     "iopub.status.idle": "2025-09-15T11:00:49.065974Z",
     "shell.execute_reply": "2025-09-15T11:00:49.065009Z"
    },
    "papermill": {
     "duration": 2.163739,
     "end_time": "2025-09-15T11:00:49.067673",
     "exception": false,
     "start_time": "2025-09-15T11:00:46.903934",
     "status": "completed"
    },
    "tags": []
   },
   "outputs": [
    {
     "data": {
      "text/html": [
       "<div>\n",
       "<style scoped>\n",
       "    .dataframe tbody tr th:only-of-type {\n",
       "        vertical-align: middle;\n",
       "    }\n",
       "\n",
       "    .dataframe tbody tr th {\n",
       "        vertical-align: top;\n",
       "    }\n",
       "\n",
       "    .dataframe thead th {\n",
       "        text-align: right;\n",
       "    }\n",
       "</style>\n",
       "<table border=\"1\" class=\"dataframe\">\n",
       "  <thead>\n",
       "    <tr style=\"text-align: right;\">\n",
       "      <th></th>\n",
       "      <th>ID</th>\n",
       "      <th>LIMIT_BAL</th>\n",
       "      <th>SEX</th>\n",
       "      <th>EDUCATION</th>\n",
       "      <th>MARRIAGE</th>\n",
       "      <th>AGE</th>\n",
       "      <th>PAY_0</th>\n",
       "      <th>PAY_2</th>\n",
       "      <th>PAY_3</th>\n",
       "      <th>PAY_4</th>\n",
       "      <th>...</th>\n",
       "      <th>BILL_AMT4</th>\n",
       "      <th>BILL_AMT5</th>\n",
       "      <th>BILL_AMT6</th>\n",
       "      <th>PAY_AMT1</th>\n",
       "      <th>PAY_AMT2</th>\n",
       "      <th>PAY_AMT3</th>\n",
       "      <th>PAY_AMT4</th>\n",
       "      <th>PAY_AMT5</th>\n",
       "      <th>PAY_AMT6</th>\n",
       "      <th>default.payment.next.month</th>\n",
       "    </tr>\n",
       "  </thead>\n",
       "  <tbody>\n",
       "    <tr>\n",
       "      <th>0</th>\n",
       "      <td>1</td>\n",
       "      <td>20000.0</td>\n",
       "      <td>2</td>\n",
       "      <td>2</td>\n",
       "      <td>1</td>\n",
       "      <td>24</td>\n",
       "      <td>2</td>\n",
       "      <td>2</td>\n",
       "      <td>-1</td>\n",
       "      <td>-1</td>\n",
       "      <td>...</td>\n",
       "      <td>0.0</td>\n",
       "      <td>0.0</td>\n",
       "      <td>0.0</td>\n",
       "      <td>0.0</td>\n",
       "      <td>689.0</td>\n",
       "      <td>0.0</td>\n",
       "      <td>0.0</td>\n",
       "      <td>0.0</td>\n",
       "      <td>0.0</td>\n",
       "      <td>1</td>\n",
       "    </tr>\n",
       "    <tr>\n",
       "      <th>1</th>\n",
       "      <td>2</td>\n",
       "      <td>120000.0</td>\n",
       "      <td>2</td>\n",
       "      <td>2</td>\n",
       "      <td>2</td>\n",
       "      <td>26</td>\n",
       "      <td>-1</td>\n",
       "      <td>2</td>\n",
       "      <td>0</td>\n",
       "      <td>0</td>\n",
       "      <td>...</td>\n",
       "      <td>3272.0</td>\n",
       "      <td>3455.0</td>\n",
       "      <td>3261.0</td>\n",
       "      <td>0.0</td>\n",
       "      <td>1000.0</td>\n",
       "      <td>1000.0</td>\n",
       "      <td>1000.0</td>\n",
       "      <td>0.0</td>\n",
       "      <td>2000.0</td>\n",
       "      <td>1</td>\n",
       "    </tr>\n",
       "    <tr>\n",
       "      <th>2</th>\n",
       "      <td>3</td>\n",
       "      <td>90000.0</td>\n",
       "      <td>2</td>\n",
       "      <td>2</td>\n",
       "      <td>2</td>\n",
       "      <td>34</td>\n",
       "      <td>0</td>\n",
       "      <td>0</td>\n",
       "      <td>0</td>\n",
       "      <td>0</td>\n",
       "      <td>...</td>\n",
       "      <td>14331.0</td>\n",
       "      <td>14948.0</td>\n",
       "      <td>15549.0</td>\n",
       "      <td>1518.0</td>\n",
       "      <td>1500.0</td>\n",
       "      <td>1000.0</td>\n",
       "      <td>1000.0</td>\n",
       "      <td>1000.0</td>\n",
       "      <td>5000.0</td>\n",
       "      <td>0</td>\n",
       "    </tr>\n",
       "    <tr>\n",
       "      <th>3</th>\n",
       "      <td>4</td>\n",
       "      <td>50000.0</td>\n",
       "      <td>2</td>\n",
       "      <td>2</td>\n",
       "      <td>1</td>\n",
       "      <td>37</td>\n",
       "      <td>0</td>\n",
       "      <td>0</td>\n",
       "      <td>0</td>\n",
       "      <td>0</td>\n",
       "      <td>...</td>\n",
       "      <td>28314.0</td>\n",
       "      <td>28959.0</td>\n",
       "      <td>29547.0</td>\n",
       "      <td>2000.0</td>\n",
       "      <td>2019.0</td>\n",
       "      <td>1200.0</td>\n",
       "      <td>1100.0</td>\n",
       "      <td>1069.0</td>\n",
       "      <td>1000.0</td>\n",
       "      <td>0</td>\n",
       "    </tr>\n",
       "    <tr>\n",
       "      <th>4</th>\n",
       "      <td>5</td>\n",
       "      <td>50000.0</td>\n",
       "      <td>1</td>\n",
       "      <td>2</td>\n",
       "      <td>1</td>\n",
       "      <td>57</td>\n",
       "      <td>-1</td>\n",
       "      <td>0</td>\n",
       "      <td>-1</td>\n",
       "      <td>0</td>\n",
       "      <td>...</td>\n",
       "      <td>20940.0</td>\n",
       "      <td>19146.0</td>\n",
       "      <td>19131.0</td>\n",
       "      <td>2000.0</td>\n",
       "      <td>36681.0</td>\n",
       "      <td>10000.0</td>\n",
       "      <td>9000.0</td>\n",
       "      <td>689.0</td>\n",
       "      <td>679.0</td>\n",
       "      <td>0</td>\n",
       "    </tr>\n",
       "  </tbody>\n",
       "</table>\n",
       "<p>5 rows × 25 columns</p>\n",
       "</div>"
      ],
      "text/plain": [
       "   ID  LIMIT_BAL  SEX  EDUCATION  MARRIAGE  AGE  PAY_0  PAY_2  PAY_3  PAY_4  \\\n",
       "0   1    20000.0    2          2         1   24      2      2     -1     -1   \n",
       "1   2   120000.0    2          2         2   26     -1      2      0      0   \n",
       "2   3    90000.0    2          2         2   34      0      0      0      0   \n",
       "3   4    50000.0    2          2         1   37      0      0      0      0   \n",
       "4   5    50000.0    1          2         1   57     -1      0     -1      0   \n",
       "\n",
       "   ...  BILL_AMT4  BILL_AMT5  BILL_AMT6  PAY_AMT1  PAY_AMT2  PAY_AMT3  \\\n",
       "0  ...        0.0        0.0        0.0       0.0     689.0       0.0   \n",
       "1  ...     3272.0     3455.0     3261.0       0.0    1000.0    1000.0   \n",
       "2  ...    14331.0    14948.0    15549.0    1518.0    1500.0    1000.0   \n",
       "3  ...    28314.0    28959.0    29547.0    2000.0    2019.0    1200.0   \n",
       "4  ...    20940.0    19146.0    19131.0    2000.0   36681.0   10000.0   \n",
       "\n",
       "   PAY_AMT4  PAY_AMT5  PAY_AMT6  default.payment.next.month  \n",
       "0       0.0       0.0       0.0                           1  \n",
       "1    1000.0       0.0    2000.0                           1  \n",
       "2    1000.0    1000.0    5000.0                           0  \n",
       "3    1100.0    1069.0    1000.0                           0  \n",
       "4    9000.0     689.0     679.0                           0  \n",
       "\n",
       "[5 rows x 25 columns]"
      ]
     },
     "execution_count": 3,
     "metadata": {},
     "output_type": "execute_result"
    }
   ],
   "source": [
    "import pandas as pd\n",
    "\n",
    "# Load dataset from Kaggle input folder\n",
    "import pandas as pd\n",
    "\n",
    "df = pd.read_csv(\"/kaggle/input/uci-credit-card-dataset/UCI_Credit_Card.csv\")\n",
    "# Display first rows\n",
    "df.head()\n"
   ]
  },
  {
   "cell_type": "markdown",
   "id": "870f2153",
   "metadata": {
    "papermill": {
     "duration": 0.008503,
     "end_time": "2025-09-15T11:00:49.085267",
     "exception": false,
     "start_time": "2025-09-15T11:00:49.076764",
     "status": "completed"
    },
    "tags": []
   },
   "source": [
    "**🔹 Step 2: Preprocessing & EDA**\n",
    "\n",
    "**1. Explore the dataset**"
   ]
  },
  {
   "cell_type": "code",
   "execution_count": 4,
   "id": "759323a8",
   "metadata": {
    "execution": {
     "iopub.execute_input": "2025-09-15T11:00:49.103895Z",
     "iopub.status.busy": "2025-09-15T11:00:49.103572Z",
     "iopub.status.idle": "2025-09-15T11:00:49.201461Z",
     "shell.execute_reply": "2025-09-15T11:00:49.200477Z"
    },
    "papermill": {
     "duration": 0.10908,
     "end_time": "2025-09-15T11:00:49.203002",
     "exception": false,
     "start_time": "2025-09-15T11:00:49.093922",
     "status": "completed"
    },
    "tags": []
   },
   "outputs": [
    {
     "name": "stdout",
     "output_type": "stream",
     "text": [
      "(30000, 25)\n",
      "<class 'pandas.core.frame.DataFrame'>\n",
      "RangeIndex: 30000 entries, 0 to 29999\n",
      "Data columns (total 25 columns):\n",
      " #   Column                      Non-Null Count  Dtype  \n",
      "---  ------                      --------------  -----  \n",
      " 0   ID                          30000 non-null  int64  \n",
      " 1   LIMIT_BAL                   30000 non-null  float64\n",
      " 2   SEX                         30000 non-null  int64  \n",
      " 3   EDUCATION                   30000 non-null  int64  \n",
      " 4   MARRIAGE                    30000 non-null  int64  \n",
      " 5   AGE                         30000 non-null  int64  \n",
      " 6   PAY_0                       30000 non-null  int64  \n",
      " 7   PAY_2                       30000 non-null  int64  \n",
      " 8   PAY_3                       30000 non-null  int64  \n",
      " 9   PAY_4                       30000 non-null  int64  \n",
      " 10  PAY_5                       30000 non-null  int64  \n",
      " 11  PAY_6                       30000 non-null  int64  \n",
      " 12  BILL_AMT1                   30000 non-null  float64\n",
      " 13  BILL_AMT2                   30000 non-null  float64\n",
      " 14  BILL_AMT3                   30000 non-null  float64\n",
      " 15  BILL_AMT4                   30000 non-null  float64\n",
      " 16  BILL_AMT5                   30000 non-null  float64\n",
      " 17  BILL_AMT6                   30000 non-null  float64\n",
      " 18  PAY_AMT1                    30000 non-null  float64\n",
      " 19  PAY_AMT2                    30000 non-null  float64\n",
      " 20  PAY_AMT3                    30000 non-null  float64\n",
      " 21  PAY_AMT4                    30000 non-null  float64\n",
      " 22  PAY_AMT5                    30000 non-null  float64\n",
      " 23  PAY_AMT6                    30000 non-null  float64\n",
      " 24  default.payment.next.month  30000 non-null  int64  \n",
      "dtypes: float64(13), int64(12)\n",
      "memory usage: 5.7 MB\n"
     ]
    },
    {
     "data": {
      "text/plain": [
       "ID                            0\n",
       "LIMIT_BAL                     0\n",
       "SEX                           0\n",
       "EDUCATION                     0\n",
       "MARRIAGE                      0\n",
       "AGE                           0\n",
       "PAY_0                         0\n",
       "PAY_2                         0\n",
       "PAY_3                         0\n",
       "PAY_4                         0\n",
       "PAY_5                         0\n",
       "PAY_6                         0\n",
       "BILL_AMT1                     0\n",
       "BILL_AMT2                     0\n",
       "BILL_AMT3                     0\n",
       "BILL_AMT4                     0\n",
       "BILL_AMT5                     0\n",
       "BILL_AMT6                     0\n",
       "PAY_AMT1                      0\n",
       "PAY_AMT2                      0\n",
       "PAY_AMT3                      0\n",
       "PAY_AMT4                      0\n",
       "PAY_AMT5                      0\n",
       "PAY_AMT6                      0\n",
       "default.payment.next.month    0\n",
       "dtype: int64"
      ]
     },
     "execution_count": 4,
     "metadata": {},
     "output_type": "execute_result"
    }
   ],
   "source": [
    "# Shape and info\n",
    "print(df.shape)\n",
    "df.info()\n",
    "\n",
    "# Summary statistics\n",
    "df.describe()\n",
    "\n",
    "# Check for missing values\n",
    "df.isnull().sum()\n"
   ]
  },
  {
   "cell_type": "markdown",
   "id": "8e17c765",
   "metadata": {
    "papermill": {
     "duration": 0.008423,
     "end_time": "2025-09-15T11:00:49.220409",
     "exception": false,
     "start_time": "2025-09-15T11:00:49.211986",
     "status": "completed"
    },
    "tags": []
   },
   "source": [
    "👉 This tells us if the dataset has missing values, datatypes, and how many rows/cols."
   ]
  },
  {
   "cell_type": "markdown",
   "id": "d8a6c49a",
   "metadata": {
    "papermill": {
     "duration": 0.008993,
     "end_time": "2025-09-15T11:00:49.238144",
     "exception": false,
     "start_time": "2025-09-15T11:00:49.229151",
     "status": "completed"
    },
    "tags": []
   },
   "source": [
    "**2. Define features & target**\n",
    "\n",
    "In this dataset:\n",
    "\n",
    "\n",
    "* Target column = default.payment.next.month (0 = no default, 1 = default)\n",
    "* All other columns = features\n"
   ]
  },
  {
   "cell_type": "code",
   "execution_count": 5,
   "id": "3934544a",
   "metadata": {
    "execution": {
     "iopub.execute_input": "2025-09-15T11:00:49.257572Z",
     "iopub.status.busy": "2025-09-15T11:00:49.256733Z",
     "iopub.status.idle": "2025-09-15T11:00:49.263110Z",
     "shell.execute_reply": "2025-09-15T11:00:49.262225Z"
    },
    "papermill": {
     "duration": 0.017656,
     "end_time": "2025-09-15T11:00:49.264606",
     "exception": false,
     "start_time": "2025-09-15T11:00:49.246950",
     "status": "completed"
    },
    "tags": []
   },
   "outputs": [],
   "source": [
    "X = df.drop(columns=[\"ID\", \"default.payment.next.month\"])  # Features\n",
    "y = df[\"default.payment.next.month\"]  # Target\n"
   ]
  },
  {
   "cell_type": "markdown",
   "id": "837e0867",
   "metadata": {
    "papermill": {
     "duration": 0.008463,
     "end_time": "2025-09-15T11:00:49.282052",
     "exception": false,
     "start_time": "2025-09-15T11:00:49.273589",
     "status": "completed"
    },
    "tags": []
   },
   "source": [
    "**3. Train-test split**"
   ]
  },
  {
   "cell_type": "code",
   "execution_count": 6,
   "id": "eac3c4f7",
   "metadata": {
    "execution": {
     "iopub.execute_input": "2025-09-15T11:00:49.300864Z",
     "iopub.status.busy": "2025-09-15T11:00:49.300208Z",
     "iopub.status.idle": "2025-09-15T11:00:51.426598Z",
     "shell.execute_reply": "2025-09-15T11:00:51.425747Z"
    },
    "papermill": {
     "duration": 2.137481,
     "end_time": "2025-09-15T11:00:51.428258",
     "exception": false,
     "start_time": "2025-09-15T11:00:49.290777",
     "status": "completed"
    },
    "tags": []
   },
   "outputs": [],
   "source": [
    "from sklearn.model_selection import train_test_split\n",
    "\n",
    "X_train, X_test, y_train, y_test = train_test_split(X, y, test_size=0.2, random_state=42, stratify=y)\n"
   ]
  },
  {
   "cell_type": "markdown",
   "id": "006da7ff",
   "metadata": {
    "papermill": {
     "duration": 0.008608,
     "end_time": "2025-09-15T11:00:51.445967",
     "exception": false,
     "start_time": "2025-09-15T11:00:51.437359",
     "status": "completed"
    },
    "tags": []
   },
   "source": [
    "**4. Scale features**\n",
    "\n",
    "Neural Networks work better with normalized values."
   ]
  },
  {
   "cell_type": "code",
   "execution_count": 7,
   "id": "863e8aed",
   "metadata": {
    "execution": {
     "iopub.execute_input": "2025-09-15T11:00:51.464688Z",
     "iopub.status.busy": "2025-09-15T11:00:51.464242Z",
     "iopub.status.idle": "2025-09-15T11:00:51.598034Z",
     "shell.execute_reply": "2025-09-15T11:00:51.597231Z"
    },
    "papermill": {
     "duration": 0.145112,
     "end_time": "2025-09-15T11:00:51.599740",
     "exception": false,
     "start_time": "2025-09-15T11:00:51.454628",
     "status": "completed"
    },
    "tags": []
   },
   "outputs": [],
   "source": [
    "from sklearn.preprocessing import StandardScaler\n",
    "\n",
    "scaler = StandardScaler()\n",
    "X_train = scaler.fit_transform(X_train)\n",
    "X_test = scaler.transform(X_test)\n"
   ]
  },
  {
   "cell_type": "markdown",
   "id": "d2fb81ba",
   "metadata": {
    "papermill": {
     "duration": 0.008422,
     "end_time": "2025-09-15T11:00:51.617466",
     "exception": false,
     "start_time": "2025-09-15T11:00:51.609044",
     "status": "completed"
    },
    "tags": []
   },
   "source": [
    "**🔹 Step 3: Build a Neural Network for Credit Risk Prediction**\n",
    "\n",
    "We’ll use TensorFlow/Keras.\n",
    "\n",
    "**1. Import libraries**"
   ]
  },
  {
   "cell_type": "code",
   "execution_count": 8,
   "id": "6ca89064",
   "metadata": {
    "execution": {
     "iopub.execute_input": "2025-09-15T11:00:51.636422Z",
     "iopub.status.busy": "2025-09-15T11:00:51.635858Z",
     "iopub.status.idle": "2025-09-15T11:00:51.639901Z",
     "shell.execute_reply": "2025-09-15T11:00:51.639028Z"
    },
    "papermill": {
     "duration": 0.01513,
     "end_time": "2025-09-15T11:00:51.641246",
     "exception": false,
     "start_time": "2025-09-15T11:00:51.626116",
     "status": "completed"
    },
    "tags": []
   },
   "outputs": [],
   "source": [
    "#import os\n",
    "#os.environ['TF_CPP_MIN_LOG_LEVEL'] = '2'  # or '3' to silence more logs\n",
    "\n",
    "#import tensorflow as tf\n",
    "#from tensorflow import keras\n",
    "#from tensorflow.keras import layers\n"
   ]
  },
  {
   "cell_type": "code",
   "execution_count": 9,
   "id": "7d2c6363",
   "metadata": {
    "execution": {
     "iopub.execute_input": "2025-09-15T11:00:51.723685Z",
     "iopub.status.busy": "2025-09-15T11:00:51.723260Z",
     "iopub.status.idle": "2025-09-15T11:01:07.977483Z",
     "shell.execute_reply": "2025-09-15T11:01:07.976623Z"
    },
    "papermill": {
     "duration": 16.265988,
     "end_time": "2025-09-15T11:01:07.979293",
     "exception": false,
     "start_time": "2025-09-15T11:00:51.713305",
     "status": "completed"
    },
    "tags": []
   },
   "outputs": [
    {
     "name": "stderr",
     "output_type": "stream",
     "text": [
      "2025-09-15 11:00:53.716072: E external/local_xla/xla/stream_executor/cuda/cuda_fft.cc:477] Unable to register cuFFT factory: Attempting to register factory for plugin cuFFT when one has already been registered\n",
      "WARNING: All log messages before absl::InitializeLog() is called are written to STDERR\n",
      "E0000 00:00:1757934053.942543      13 cuda_dnn.cc:8310] Unable to register cuDNN factory: Attempting to register factory for plugin cuDNN when one has already been registered\n",
      "E0000 00:00:1757934054.009636      13 cuda_blas.cc:1418] Unable to register cuBLAS factory: Attempting to register factory for plugin cuBLAS when one has already been registered\n"
     ]
    }
   ],
   "source": [
    "import tensorflow as tf\n",
    "from tensorflow import keras\n",
    "from tensorflow.keras import layers\n"
   ]
  },
  {
   "cell_type": "markdown",
   "id": "3a6957ab",
   "metadata": {
    "papermill": {
     "duration": 0.008701,
     "end_time": "2025-09-15T11:01:07.997331",
     "exception": false,
     "start_time": "2025-09-15T11:01:07.988630",
     "status": "completed"
    },
    "tags": []
   },
   "source": [
    "**2. Define the model**\n",
    "\n",
    "A simple feedforward Neural Network:"
   ]
  },
  {
   "cell_type": "code",
   "execution_count": 10,
   "id": "bd2a6be7",
   "metadata": {
    "execution": {
     "iopub.execute_input": "2025-09-15T11:01:08.017440Z",
     "iopub.status.busy": "2025-09-15T11:01:08.016351Z",
     "iopub.status.idle": "2025-09-15T11:01:08.112344Z",
     "shell.execute_reply": "2025-09-15T11:01:08.111462Z"
    },
    "papermill": {
     "duration": 0.107627,
     "end_time": "2025-09-15T11:01:08.114038",
     "exception": false,
     "start_time": "2025-09-15T11:01:08.006411",
     "status": "completed"
    },
    "tags": []
   },
   "outputs": [
    {
     "name": "stderr",
     "output_type": "stream",
     "text": [
      "/usr/local/lib/python3.11/dist-packages/keras/src/layers/core/dense.py:87: UserWarning: Do not pass an `input_shape`/`input_dim` argument to a layer. When using Sequential models, prefer using an `Input(shape)` object as the first layer in the model instead.\n",
      "  super().__init__(activity_regularizer=activity_regularizer, **kwargs)\n",
      "2025-09-15 11:01:08.027294: E external/local_xla/xla/stream_executor/cuda/cuda_driver.cc:152] failed call to cuInit: INTERNAL: CUDA error: Failed call to cuInit: UNKNOWN ERROR (303)\n"
     ]
    }
   ],
   "source": [
    "model = keras.Sequential([\n",
    "    layers.Dense(64, activation='relu', input_shape=(X_train.shape[1],)),\n",
    "    layers.Dropout(0.3),   # prevent overfitting\n",
    "    layers.Dense(32, activation='relu'),\n",
    "    layers.Dropout(0.3),\n",
    "    layers.Dense(1, activation='sigmoid')  # output: probability of default\n",
    "])\n"
   ]
  },
  {
   "cell_type": "markdown",
   "id": "6cdd1bf6",
   "metadata": {
    "papermill": {
     "duration": 0.008879,
     "end_time": "2025-09-15T11:01:08.132200",
     "exception": false,
     "start_time": "2025-09-15T11:01:08.123321",
     "status": "completed"
    },
    "tags": []
   },
   "source": [
    "**3. Compile the model**"
   ]
  },
  {
   "cell_type": "code",
   "execution_count": 11,
   "id": "63327278",
   "metadata": {
    "execution": {
     "iopub.execute_input": "2025-09-15T11:01:08.152235Z",
     "iopub.status.busy": "2025-09-15T11:01:08.151380Z",
     "iopub.status.idle": "2025-09-15T11:01:08.173780Z",
     "shell.execute_reply": "2025-09-15T11:01:08.172918Z"
    },
    "papermill": {
     "duration": 0.03399,
     "end_time": "2025-09-15T11:01:08.175354",
     "exception": false,
     "start_time": "2025-09-15T11:01:08.141364",
     "status": "completed"
    },
    "tags": []
   },
   "outputs": [],
   "source": [
    "model.compile(\n",
    "    optimizer='adam',\n",
    "    loss='binary_crossentropy',\n",
    "    metrics=['accuracy', keras.metrics.AUC(name='auc')]\n",
    ")\n"
   ]
  },
  {
   "cell_type": "markdown",
   "id": "2735d3ed",
   "metadata": {
    "papermill": {
     "duration": 0.010238,
     "end_time": "2025-09-15T11:01:08.194824",
     "exception": false,
     "start_time": "2025-09-15T11:01:08.184586",
     "status": "completed"
    },
    "tags": []
   },
   "source": [
    "**4. Train the model**"
   ]
  },
  {
   "cell_type": "code",
   "execution_count": 12,
   "id": "1108e45a",
   "metadata": {
    "execution": {
     "iopub.execute_input": "2025-09-15T11:01:08.214414Z",
     "iopub.status.busy": "2025-09-15T11:01:08.214096Z",
     "iopub.status.idle": "2025-09-15T11:01:18.538327Z",
     "shell.execute_reply": "2025-09-15T11:01:18.537555Z"
    },
    "papermill": {
     "duration": 10.335949,
     "end_time": "2025-09-15T11:01:18.539995",
     "exception": false,
     "start_time": "2025-09-15T11:01:08.204046",
     "status": "completed"
    },
    "tags": []
   },
   "outputs": [
    {
     "name": "stdout",
     "output_type": "stream",
     "text": [
      "Epoch 1/20\n",
      "\u001b[1m94/94\u001b[0m \u001b[32m━━━━━━━━━━━━━━━━━━━━\u001b[0m\u001b[37m\u001b[0m \u001b[1m3s\u001b[0m 8ms/step - accuracy: 0.7462 - auc: 0.5801 - loss: 0.5706 - val_accuracy: 0.8040 - val_auc: 0.6860 - val_loss: 0.4814\n",
      "Epoch 2/20\n",
      "\u001b[1m94/94\u001b[0m \u001b[32m━━━━━━━━━━━━━━━━━━━━\u001b[0m\u001b[37m\u001b[0m \u001b[1m0s\u001b[0m 4ms/step - accuracy: 0.8016 - auc: 0.6940 - loss: 0.4890 - val_accuracy: 0.8088 - val_auc: 0.7163 - val_loss: 0.4628\n",
      "Epoch 3/20\n",
      "\u001b[1m94/94\u001b[0m \u001b[32m━━━━━━━━━━━━━━━━━━━━\u001b[0m\u001b[37m\u001b[0m \u001b[1m0s\u001b[0m 4ms/step - accuracy: 0.8007 - auc: 0.7045 - loss: 0.4832 - val_accuracy: 0.8127 - val_auc: 0.7337 - val_loss: 0.4545\n",
      "Epoch 4/20\n",
      "\u001b[1m94/94\u001b[0m \u001b[32m━━━━━━━━━━━━━━━━━━━━\u001b[0m\u001b[37m\u001b[0m \u001b[1m0s\u001b[0m 4ms/step - accuracy: 0.8098 - auc: 0.7241 - loss: 0.4702 - val_accuracy: 0.8138 - val_auc: 0.7430 - val_loss: 0.4498\n",
      "Epoch 5/20\n",
      "\u001b[1m94/94\u001b[0m \u001b[32m━━━━━━━━━━━━━━━━━━━━\u001b[0m\u001b[37m\u001b[0m \u001b[1m0s\u001b[0m 4ms/step - accuracy: 0.8092 - auc: 0.7323 - loss: 0.4604 - val_accuracy: 0.8163 - val_auc: 0.7459 - val_loss: 0.4469\n",
      "Epoch 6/20\n",
      "\u001b[1m94/94\u001b[0m \u001b[32m━━━━━━━━━━━━━━━━━━━━\u001b[0m\u001b[37m\u001b[0m \u001b[1m0s\u001b[0m 4ms/step - accuracy: 0.8188 - auc: 0.7420 - loss: 0.4484 - val_accuracy: 0.8160 - val_auc: 0.7528 - val_loss: 0.4442\n",
      "Epoch 7/20\n",
      "\u001b[1m94/94\u001b[0m \u001b[32m━━━━━━━━━━━━━━━━━━━━\u001b[0m\u001b[37m\u001b[0m \u001b[1m0s\u001b[0m 3ms/step - accuracy: 0.8172 - auc: 0.7474 - loss: 0.4492 - val_accuracy: 0.8172 - val_auc: 0.7557 - val_loss: 0.4422\n",
      "Epoch 8/20\n",
      "\u001b[1m94/94\u001b[0m \u001b[32m━━━━━━━━━━━━━━━━━━━━\u001b[0m\u001b[37m\u001b[0m \u001b[1m0s\u001b[0m 3ms/step - accuracy: 0.8200 - auc: 0.7608 - loss: 0.4411 - val_accuracy: 0.8187 - val_auc: 0.7575 - val_loss: 0.4411\n",
      "Epoch 9/20\n",
      "\u001b[1m94/94\u001b[0m \u001b[32m━━━━━━━━━━━━━━━━━━━━\u001b[0m\u001b[37m\u001b[0m \u001b[1m0s\u001b[0m 4ms/step - accuracy: 0.8155 - auc: 0.7525 - loss: 0.4473 - val_accuracy: 0.8185 - val_auc: 0.7583 - val_loss: 0.4415\n",
      "Epoch 10/20\n",
      "\u001b[1m94/94\u001b[0m \u001b[32m━━━━━━━━━━━━━━━━━━━━\u001b[0m\u001b[37m\u001b[0m \u001b[1m0s\u001b[0m 4ms/step - accuracy: 0.8216 - auc: 0.7505 - loss: 0.4436 - val_accuracy: 0.8203 - val_auc: 0.7600 - val_loss: 0.4404\n",
      "Epoch 11/20\n",
      "\u001b[1m94/94\u001b[0m \u001b[32m━━━━━━━━━━━━━━━━━━━━\u001b[0m\u001b[37m\u001b[0m \u001b[1m0s\u001b[0m 4ms/step - accuracy: 0.8202 - auc: 0.7605 - loss: 0.4403 - val_accuracy: 0.8203 - val_auc: 0.7604 - val_loss: 0.4387\n",
      "Epoch 12/20\n",
      "\u001b[1m94/94\u001b[0m \u001b[32m━━━━━━━━━━━━━━━━━━━━\u001b[0m\u001b[37m\u001b[0m \u001b[1m0s\u001b[0m 4ms/step - accuracy: 0.8190 - auc: 0.7608 - loss: 0.4381 - val_accuracy: 0.8202 - val_auc: 0.7616 - val_loss: 0.4394\n",
      "Epoch 13/20\n",
      "\u001b[1m94/94\u001b[0m \u001b[32m━━━━━━━━━━━━━━━━━━━━\u001b[0m\u001b[37m\u001b[0m \u001b[1m0s\u001b[0m 4ms/step - accuracy: 0.8171 - auc: 0.7502 - loss: 0.4464 - val_accuracy: 0.8205 - val_auc: 0.7616 - val_loss: 0.4388\n",
      "Epoch 14/20\n",
      "\u001b[1m94/94\u001b[0m \u001b[32m━━━━━━━━━━━━━━━━━━━━\u001b[0m\u001b[37m\u001b[0m \u001b[1m0s\u001b[0m 3ms/step - accuracy: 0.8167 - auc: 0.7594 - loss: 0.4456 - val_accuracy: 0.8215 - val_auc: 0.7621 - val_loss: 0.4385\n",
      "Epoch 15/20\n",
      "\u001b[1m94/94\u001b[0m \u001b[32m━━━━━━━━━━━━━━━━━━━━\u001b[0m\u001b[37m\u001b[0m \u001b[1m0s\u001b[0m 3ms/step - accuracy: 0.8133 - auc: 0.7602 - loss: 0.4466 - val_accuracy: 0.8220 - val_auc: 0.7623 - val_loss: 0.4382\n",
      "Epoch 16/20\n",
      "\u001b[1m94/94\u001b[0m \u001b[32m━━━━━━━━━━━━━━━━━━━━\u001b[0m\u001b[37m\u001b[0m \u001b[1m0s\u001b[0m 4ms/step - accuracy: 0.8147 - auc: 0.7652 - loss: 0.4433 - val_accuracy: 0.8203 - val_auc: 0.7638 - val_loss: 0.4372\n",
      "Epoch 17/20\n",
      "\u001b[1m94/94\u001b[0m \u001b[32m━━━━━━━━━━━━━━━━━━━━\u001b[0m\u001b[37m\u001b[0m \u001b[1m0s\u001b[0m 4ms/step - accuracy: 0.8128 - auc: 0.7622 - loss: 0.4447 - val_accuracy: 0.8187 - val_auc: 0.7666 - val_loss: 0.4362\n",
      "Epoch 18/20\n",
      "\u001b[1m94/94\u001b[0m \u001b[32m━━━━━━━━━━━━━━━━━━━━\u001b[0m\u001b[37m\u001b[0m \u001b[1m0s\u001b[0m 3ms/step - accuracy: 0.8155 - auc: 0.7597 - loss: 0.4440 - val_accuracy: 0.8198 - val_auc: 0.7662 - val_loss: 0.4361\n",
      "Epoch 19/20\n",
      "\u001b[1m94/94\u001b[0m \u001b[32m━━━━━━━━━━━━━━━━━━━━\u001b[0m\u001b[37m\u001b[0m \u001b[1m0s\u001b[0m 4ms/step - accuracy: 0.8207 - auc: 0.7731 - loss: 0.4344 - val_accuracy: 0.8215 - val_auc: 0.7666 - val_loss: 0.4363\n",
      "Epoch 20/20\n",
      "\u001b[1m94/94\u001b[0m \u001b[32m━━━━━━━━━━━━━━━━━━━━\u001b[0m\u001b[37m\u001b[0m \u001b[1m0s\u001b[0m 4ms/step - accuracy: 0.8206 - auc: 0.7734 - loss: 0.4336 - val_accuracy: 0.8213 - val_auc: 0.7688 - val_loss: 0.4353\n"
     ]
    }
   ],
   "source": [
    "history = model.fit(\n",
    "    X_train, y_train,\n",
    "    validation_data=(X_test, y_test),\n",
    "    epochs=20,\n",
    "    batch_size=256,\n",
    "    verbose=1\n",
    ")\n"
   ]
  },
  {
   "cell_type": "markdown",
   "id": "02b7c51f",
   "metadata": {
    "papermill": {
     "duration": 0.015813,
     "end_time": "2025-09-15T11:01:18.573732",
     "exception": false,
     "start_time": "2025-09-15T11:01:18.557919",
     "status": "completed"
    },
    "tags": []
   },
   "source": [
    "**5. Evaluate**"
   ]
  },
  {
   "cell_type": "code",
   "execution_count": 13,
   "id": "598c2a83",
   "metadata": {
    "execution": {
     "iopub.execute_input": "2025-09-15T11:01:18.606910Z",
     "iopub.status.busy": "2025-09-15T11:01:18.606221Z",
     "iopub.status.idle": "2025-09-15T11:01:19.001361Z",
     "shell.execute_reply": "2025-09-15T11:01:19.000283Z"
    },
    "papermill": {
     "duration": 0.413368,
     "end_time": "2025-09-15T11:01:19.002962",
     "exception": false,
     "start_time": "2025-09-15T11:01:18.589594",
     "status": "completed"
    },
    "tags": []
   },
   "outputs": [
    {
     "name": "stdout",
     "output_type": "stream",
     "text": [
      "Test Accuracy: 0.8213\n",
      "Test AUC: 0.7688\n"
     ]
    }
   ],
   "source": [
    "results = model.evaluate(X_test, y_test, verbose=0)\n",
    "print(f\"Test Accuracy: {results[1]:.4f}\")\n",
    "print(f\"Test AUC: {results[2]:.4f}\")\n"
   ]
  },
  {
   "cell_type": "markdown",
   "id": "92867703",
   "metadata": {
    "papermill": {
     "duration": 0.015658,
     "end_time": "2025-09-15T11:01:19.034710",
     "exception": false,
     "start_time": "2025-09-15T11:01:19.019052",
     "status": "completed"
    },
    "tags": []
   },
   "source": [
    "**🔹 Step 4: Model Evaluation & Visualization**\n",
    "\n",
    "To make your project resume-worthy, you need graphs + evaluation metrics.\n",
    "\n",
    "**1. Plot training history (Loss & Accuracy)**"
   ]
  },
  {
   "cell_type": "code",
   "execution_count": 14,
   "id": "70e32cf8",
   "metadata": {
    "execution": {
     "iopub.execute_input": "2025-09-15T11:01:19.068067Z",
     "iopub.status.busy": "2025-09-15T11:01:19.067231Z",
     "iopub.status.idle": "2025-09-15T11:01:19.532906Z",
     "shell.execute_reply": "2025-09-15T11:01:19.532087Z"
    },
    "papermill": {
     "duration": 0.484259,
     "end_time": "2025-09-15T11:01:19.534474",
     "exception": false,
     "start_time": "2025-09-15T11:01:19.050215",
     "status": "completed"
    },
    "tags": []
   },
   "outputs": [
    {
     "data": {
      "image/png": "[encoded data removed]",
      "text/plain": [
       "<Figure size 640x480 with 1 Axes>"
      ]
     },
     "metadata": {},
     "output_type": "display_data"
    },
    {
     "data": {
      "image/png": "[encoded data removed]",
      "text/plain": [
       "<Figure size 640x480 with 1 Axes>"
      ]
     },
     "metadata": {},
     "output_type": "display_data"
    }
   ],
   "source": [
    "import matplotlib.pyplot as plt\n",
    "\n",
    "# Plot training & validation accuracy\n",
    "plt.plot(history.history['accuracy'], label='Train Accuracy')\n",
    "plt.plot(history.history['val_accuracy'], label='Val Accuracy')\n",
    "plt.xlabel('Epochs')\n",
    "plt.ylabel('Accuracy')\n",
    "plt.legend()\n",
    "plt.show()\n",
    "\n",
    "# Plot training & validation loss\n",
    "plt.plot(history.history['loss'], label='Train Loss')\n",
    "plt.plot(history.history['val_loss'], label='Val Loss')\n",
    "plt.xlabel('Epochs')\n",
    "plt.ylabel('Loss')\n",
    "plt.legend()\n",
    "plt.show()\n"
   ]
  },
  {
   "cell_type": "markdown",
   "id": "a5246eae",
   "metadata": {
    "papermill": {
     "duration": 0.017048,
     "end_time": "2025-09-15T11:01:19.569376",
     "exception": false,
     "start_time": "2025-09-15T11:01:19.552328",
     "status": "completed"
    },
    "tags": []
   },
   "source": [
    "**2. Confusion Matrix**"
   ]
  },
  {
   "cell_type": "code",
   "execution_count": 15,
   "id": "b6f7f43f",
   "metadata": {
    "execution": {
     "iopub.execute_input": "2025-09-15T11:01:19.606605Z",
     "iopub.status.busy": "2025-09-15T11:01:19.605824Z",
     "iopub.status.idle": "2025-09-15T11:01:20.278019Z",
     "shell.execute_reply": "2025-09-15T11:01:20.277056Z"
    },
    "papermill": {
     "duration": 0.692537,
     "end_time": "2025-09-15T11:01:20.279987",
     "exception": false,
     "start_time": "2025-09-15T11:01:19.587450",
     "status": "completed"
    },
    "tags": []
   },
   "outputs": [
    {
     "name": "stdout",
     "output_type": "stream",
     "text": [
      "\u001b[1m188/188\u001b[0m \u001b[32m━━━━━━━━━━━━━━━━━━━━\u001b[0m\u001b[37m\u001b[0m \u001b[1m0s\u001b[0m 1ms/step\n"
     ]
    },
    {
     "data": {
      "image/png": "[encoded data removed]",
      "text/plain": [
       "<Figure size 640x480 with 2 Axes>"
      ]
     },
     "metadata": {},
     "output_type": "display_data"
    }
   ],
   "source": [
    "from sklearn.metrics import confusion_matrix, ConfusionMatrixDisplay\n",
    "import numpy as np\n",
    "\n",
    "# Predictions (probabilities → 0/1)\n",
    "y_pred = (model.predict(X_test) > 0.5).astype(\"int32\")\n",
    "\n",
    "cm = confusion_matrix(y_test, y_pred)\n",
    "disp = ConfusionMatrixDisplay(confusion_matrix=cm, display_labels=[0, 1])\n",
    "disp.plot(cmap=plt.cm.Blues)\n",
    "plt.show()\n"
   ]
  },
  {
   "cell_type": "markdown",
   "id": "da49da4d",
   "metadata": {
    "papermill": {
     "duration": 0.017936,
     "end_time": "2025-09-15T11:01:20.320347",
     "exception": false,
     "start_time": "2025-09-15T11:01:20.302411",
     "status": "completed"
    },
    "tags": []
   },
   "source": [
    "**3. ROC Curve**"
   ]
  },
  {
   "cell_type": "code",
   "execution_count": 16,
   "id": "0266c30f",
   "metadata": {
    "execution": {
     "iopub.execute_input": "2025-09-15T11:01:20.358630Z",
     "iopub.status.busy": "2025-09-15T11:01:20.358273Z",
     "iopub.status.idle": "2025-09-15T11:01:20.870191Z",
     "shell.execute_reply": "2025-09-15T11:01:20.869259Z"
    },
    "papermill": {
     "duration": 0.533196,
     "end_time": "2025-09-15T11:01:20.871921",
     "exception": false,
     "start_time": "2025-09-15T11:01:20.338725",
     "status": "completed"
    },
    "tags": []
   },
   "outputs": [
    {
     "name": "stdout",
     "output_type": "stream",
     "text": [
      "\u001b[1m188/188\u001b[0m \u001b[32m━━━━━━━━━━━━━━━━━━━━\u001b[0m\u001b[37m\u001b[0m \u001b[1m0s\u001b[0m 990us/step\n"
     ]
    },
    {
     "data": {
      "image/png": "[encoded data removed]",
      "text/plain": [
       "<Figure size 640x480 with 1 Axes>"
      ]
     },
     "metadata": {},
     "output_type": "display_data"
    }
   ],
   "source": [
    "from sklearn.metrics import roc_curve, auc\n",
    "\n",
    "y_pred_prob = model.predict(X_test).ravel()\n",
    "fpr, tpr, thresholds = roc_curve(y_test, y_pred_prob)\n",
    "roc_auc = auc(fpr, tpr)\n",
    "\n",
    "plt.plot(fpr, tpr, label=f'AUC = {roc_auc:.2f}')\n",
    "plt.plot([0,1],[0,1],'--',color='gray')\n",
    "plt.xlabel('False Positive Rate')\n",
    "plt.ylabel('True Positive Rate')\n",
    "plt.title('ROC Curve')\n",
    "plt.legend()\n",
    "plt.show()\n"
   ]
  },
  {
   "cell_type": "markdown",
   "id": "7ba99bfc",
   "metadata": {
    "papermill": {
     "duration": 0.019653,
     "end_time": "2025-09-15T11:01:20.911868",
     "exception": false,
     "start_time": "2025-09-15T11:01:20.892215",
     "status": "completed"
    },
    "tags": []
   },
   "source": [
    "**🔹 Step 5: Hyperparameter Tuning (Advanced)**\n",
    "\n",
    "We’ll use KerasTuner for automated tuning of neurons, layers, learning rate, etc.\n",
    "\n",
    "**1. Install and import KerasTuner**"
   ]
  },
  {
   "cell_type": "code",
   "execution_count": 17,
   "id": "62aea4c8",
   "metadata": {
    "execution": {
     "iopub.execute_input": "2025-09-15T11:01:20.953241Z",
     "iopub.status.busy": "2025-09-15T11:01:20.952535Z",
     "iopub.status.idle": "2025-09-15T11:01:26.127101Z",
     "shell.execute_reply": "2025-09-15T11:01:26.126072Z"
    },
    "papermill": {
     "duration": 5.197808,
     "end_time": "2025-09-15T11:01:26.129526",
     "exception": false,
     "start_time": "2025-09-15T11:01:20.931718",
     "status": "completed"
    },
    "tags": []
   },
   "outputs": [],
   "source": [
    "!pip install keras-tuner --quiet\n",
    "\n",
    "import keras_tuner as kt\n",
    "from tensorflow import keras\n",
    "from tensorflow.keras import layers\n"
   ]
  },
  {
   "cell_type": "markdown",
   "id": "12791268",
   "metadata": {
    "papermill": {
     "duration": 0.01928,
     "end_time": "2025-09-15T11:01:26.168951",
     "exception": false,
     "start_time": "2025-09-15T11:01:26.149671",
     "status": "completed"
    },
    "tags": []
   },
   "source": [
    "**2. Define a model builder function**"
   ]
  },
  {
   "cell_type": "code",
   "execution_count": 18,
   "id": "f690e6bf",
   "metadata": {
    "execution": {
     "iopub.execute_input": "2025-09-15T11:01:26.210047Z",
     "iopub.status.busy": "2025-09-15T11:01:26.209133Z",
     "iopub.status.idle": "2025-09-15T11:01:26.216535Z",
     "shell.execute_reply": "2025-09-15T11:01:26.215791Z"
    },
    "papermill": {
     "duration": 0.029277,
     "end_time": "2025-09-15T11:01:26.217898",
     "exception": false,
     "start_time": "2025-09-15T11:01:26.188621",
     "status": "completed"
    },
    "tags": []
   },
   "outputs": [],
   "source": [
    "def model_builder(hp):\n",
    "    model = keras.Sequential()\n",
    "    \n",
    "    # Input layer\n",
    "    model.add(layers.Input(shape=(X_train.shape[1],)))\n",
    "    \n",
    "    # Hidden layers (tune number of units: 32–256)\n",
    "    for i in range(hp.Int('num_layers', 1, 3)):  \n",
    "        model.add(layers.Dense(units=hp.Int('units_' + str(i),\n",
    "                                            min_value=32,\n",
    "                                            max_value=256,\n",
    "                                            step=32),\n",
    "                               activation='relu'))\n",
    "        model.add(layers.Dropout(rate=hp.Float('dropout_' + str(i),\n",
    "                                               min_value=0.2,\n",
    "                                               max_value=0.5,\n",
    "                                               step=0.1)))\n",
    "    \n",
    "    # Output layer\n",
    "    model.add(layers.Dense(1, activation='sigmoid'))\n",
    "    \n",
    "    # Compile (tune learning rate)\n",
    "    model.compile(\n",
    "        optimizer=keras.optimizers.Adam(\n",
    "            hp.Float('learning_rate', 1e-4, 1e-2, sampling='LOG')\n",
    "        ),\n",
    "        loss='binary_crossentropy',\n",
    "        metrics=['accuracy', keras.metrics.AUC(name='auc')]\n",
    "    )\n",
    "    \n",
    "    return model\n"
   ]
  },
  {
   "cell_type": "markdown",
   "id": "08d63810",
   "metadata": {
    "papermill": {
     "duration": 0.020652,
     "end_time": "2025-09-15T11:01:26.258381",
     "exception": false,
     "start_time": "2025-09-15T11:01:26.237729",
     "status": "completed"
    },
    "tags": []
   },
   "source": [
    "**3. Run Hyperparameter Search**"
   ]
  },
  {
   "cell_type": "code",
   "execution_count": 19,
   "id": "b247eeb5",
   "metadata": {
    "execution": {
     "iopub.execute_input": "2025-09-15T11:01:26.299727Z",
     "iopub.status.busy": "2025-09-15T11:01:26.298878Z",
     "iopub.status.idle": "2025-09-15T11:03:24.829958Z",
     "shell.execute_reply": "2025-09-15T11:03:24.828975Z"
    },
    "papermill": {
     "duration": 118.553357,
     "end_time": "2025-09-15T11:03:24.831470",
     "exception": false,
     "start_time": "2025-09-15T11:01:26.278113",
     "status": "completed"
    },
    "tags": []
   },
   "outputs": [
    {
     "name": "stdout",
     "output_type": "stream",
     "text": [
      "Trial 5 Complete [00h 00m 26s]\n",
      "val_auc: 0.7666975855827332\n",
      "\n",
      "Best val_auc So Far: 0.7692212462425232\n",
      "Total elapsed time: 00h 01m 58s\n",
      "\n",
      "Best units per layer: 32\n",
      "Best learning rate: 0.0009629861008872285\n",
      "\n"
     ]
    }
   ],
   "source": [
    "tuner = kt.RandomSearch(\n",
    "    model_builder,\n",
    "    objective='val_auc',\n",
    "    max_trials=5,  # try more for deeper tuning\n",
    "    executions_per_trial=1,\n",
    "    directory='my_dir',\n",
    "    project_name='credit_risk_tuning'\n",
    ")\n",
    "\n",
    "tuner.search(X_train, y_train, epochs=10, validation_data=(X_test, y_test))\n",
    "\n",
    "# Get the best model\n",
    "best_hps = tuner.get_best_hyperparameters(num_trials=1)[0]\n",
    "print(f\"\"\"\n",
    "Best units per layer: {best_hps.get('units_0')}\n",
    "Best learning rate: {best_hps.get('learning_rate')}\n",
    "\"\"\")\n"
   ]
  },
  {
   "cell_type": "markdown",
   "id": "c047c633",
   "metadata": {
    "papermill": {
     "duration": 0.018596,
     "end_time": "2025-09-15T11:03:24.870225",
     "exception": false,
     "start_time": "2025-09-15T11:03:24.851629",
     "status": "completed"
    },
    "tags": []
   },
   "source": [
    "**4. Train the best model**"
   ]
  },
  {
   "cell_type": "code",
   "execution_count": 20,
   "id": "88a24dfb",
   "metadata": {
    "execution": {
     "iopub.execute_input": "2025-09-15T11:03:24.908968Z",
     "iopub.status.busy": "2025-09-15T11:03:24.908660Z",
     "iopub.status.idle": "2025-09-15T11:03:39.580032Z",
     "shell.execute_reply": "2025-09-15T11:03:39.579291Z"
    },
    "papermill": {
     "duration": 14.693123,
     "end_time": "2025-09-15T11:03:39.581931",
     "exception": false,
     "start_time": "2025-09-15T11:03:24.888808",
     "status": "completed"
    },
    "tags": []
   },
   "outputs": [
    {
     "name": "stdout",
     "output_type": "stream",
     "text": [
      "Epoch 1/20\n",
      "\u001b[1m94/94\u001b[0m \u001b[32m━━━━━━━━━━━━━━━━━━━━\u001b[0m\u001b[37m\u001b[0m \u001b[1m3s\u001b[0m 10ms/step - accuracy: 0.7714 - auc: 0.5614 - loss: 0.5544 - val_accuracy: 0.8073 - val_auc: 0.6969 - val_loss: 0.4741\n",
      "Epoch 2/20\n",
      "\u001b[1m94/94\u001b[0m \u001b[32m━━━━━━━━━━━━━━━━━━━━\u001b[0m\u001b[37m\u001b[0m \u001b[1m1s\u001b[0m 6ms/step - accuracy: 0.8014 - auc: 0.7046 - loss: 0.4817 - val_accuracy: 0.8107 - val_auc: 0.7319 - val_loss: 0.4643\n",
      "Epoch 3/20\n",
      "\u001b[1m94/94\u001b[0m \u001b[32m━━━━━━━━━━━━━━━━━━━━\u001b[0m\u001b[37m\u001b[0m \u001b[1m1s\u001b[0m 6ms/step - accuracy: 0.8074 - auc: 0.7148 - loss: 0.4674 - val_accuracy: 0.8123 - val_auc: 0.7382 - val_loss: 0.4497\n",
      "Epoch 4/20\n",
      "\u001b[1m94/94\u001b[0m \u001b[32m━━━━━━━━━━━━━━━━━━━━\u001b[0m\u001b[37m\u001b[0m \u001b[1m1s\u001b[0m 6ms/step - accuracy: 0.8109 - auc: 0.7362 - loss: 0.4568 - val_accuracy: 0.8160 - val_auc: 0.7522 - val_loss: 0.4451\n",
      "Epoch 5/20\n",
      "\u001b[1m94/94\u001b[0m \u001b[32m━━━━━━━━━━━━━━━━━━━━\u001b[0m\u001b[37m\u001b[0m \u001b[1m1s\u001b[0m 6ms/step - accuracy: 0.8090 - auc: 0.7360 - loss: 0.4592 - val_accuracy: 0.8187 - val_auc: 0.7559 - val_loss: 0.4425\n",
      "Epoch 6/20\n",
      "\u001b[1m94/94\u001b[0m \u001b[32m━━━━━━━━━━━━━━━━━━━━\u001b[0m\u001b[37m\u001b[0m \u001b[1m1s\u001b[0m 6ms/step - accuracy: 0.8132 - auc: 0.7475 - loss: 0.4495 - val_accuracy: 0.8140 - val_auc: 0.7567 - val_loss: 0.4422\n",
      "Epoch 7/20\n",
      "\u001b[1m94/94\u001b[0m \u001b[32m━━━━━━━━━━━━━━━━━━━━\u001b[0m\u001b[37m\u001b[0m \u001b[1m1s\u001b[0m 6ms/step - accuracy: 0.8129 - auc: 0.7540 - loss: 0.4478 - val_accuracy: 0.8185 - val_auc: 0.7605 - val_loss: 0.4425\n",
      "Epoch 8/20\n",
      "\u001b[1m94/94\u001b[0m \u001b[32m━━━━━━━━━━━━━━━━━━━━\u001b[0m\u001b[37m\u001b[0m \u001b[1m1s\u001b[0m 6ms/step - accuracy: 0.8161 - auc: 0.7564 - loss: 0.4403 - val_accuracy: 0.8158 - val_auc: 0.7593 - val_loss: 0.4421\n",
      "Epoch 9/20\n",
      "\u001b[1m94/94\u001b[0m \u001b[32m━━━━━━━━━━━━━━━━━━━━\u001b[0m\u001b[37m\u001b[0m \u001b[1m1s\u001b[0m 6ms/step - accuracy: 0.8116 - auc: 0.7509 - loss: 0.4530 - val_accuracy: 0.8180 - val_auc: 0.7618 - val_loss: 0.4404\n",
      "Epoch 10/20\n",
      "\u001b[1m94/94\u001b[0m \u001b[32m━━━━━━━━━━━━━━━━━━━━\u001b[0m\u001b[37m\u001b[0m \u001b[1m1s\u001b[0m 6ms/step - accuracy: 0.8167 - auc: 0.7523 - loss: 0.4494 - val_accuracy: 0.8163 - val_auc: 0.7620 - val_loss: 0.4400\n",
      "Epoch 11/20\n",
      "\u001b[1m94/94\u001b[0m \u001b[32m━━━━━━━━━━━━━━━━━━━━\u001b[0m\u001b[37m\u001b[0m \u001b[1m1s\u001b[0m 6ms/step - accuracy: 0.8130 - auc: 0.7630 - loss: 0.4447 - val_accuracy: 0.8198 - val_auc: 0.7647 - val_loss: 0.4401\n",
      "Epoch 12/20\n",
      "\u001b[1m94/94\u001b[0m \u001b[32m━━━━━━━━━━━━━━━━━━━━\u001b[0m\u001b[37m\u001b[0m \u001b[1m1s\u001b[0m 6ms/step - accuracy: 0.8183 - auc: 0.7650 - loss: 0.4387 - val_accuracy: 0.8197 - val_auc: 0.7630 - val_loss: 0.4385\n",
      "Epoch 13/20\n",
      "\u001b[1m94/94\u001b[0m \u001b[32m━━━━━━━━━━━━━━━━━━━━\u001b[0m\u001b[37m\u001b[0m \u001b[1m1s\u001b[0m 6ms/step - accuracy: 0.8196 - auc: 0.7647 - loss: 0.4368 - val_accuracy: 0.8215 - val_auc: 0.7623 - val_loss: 0.4389\n",
      "Epoch 14/20\n",
      "\u001b[1m94/94\u001b[0m \u001b[32m━━━━━━━━━━━━━━━━━━━━\u001b[0m\u001b[37m\u001b[0m \u001b[1m1s\u001b[0m 6ms/step - accuracy: 0.8207 - auc: 0.7643 - loss: 0.4340 - val_accuracy: 0.8202 - val_auc: 0.7642 - val_loss: 0.4382\n",
      "Epoch 15/20\n",
      "\u001b[1m94/94\u001b[0m \u001b[32m━━━━━━━━━━━━━━━━━━━━\u001b[0m\u001b[37m\u001b[0m \u001b[1m1s\u001b[0m 6ms/step - accuracy: 0.8195 - auc: 0.7703 - loss: 0.4333 - val_accuracy: 0.8208 - val_auc: 0.7657 - val_loss: 0.4378\n",
      "Epoch 16/20\n",
      "\u001b[1m94/94\u001b[0m \u001b[32m━━━━━━━━━━━━━━━━━━━━\u001b[0m\u001b[37m\u001b[0m \u001b[1m1s\u001b[0m 6ms/step - accuracy: 0.8206 - auc: 0.7727 - loss: 0.4333 - val_accuracy: 0.8195 - val_auc: 0.7654 - val_loss: 0.4383\n",
      "Epoch 17/20\n",
      "\u001b[1m94/94\u001b[0m \u001b[32m━━━━━━━━━━━━━━━━━━━━\u001b[0m\u001b[37m\u001b[0m \u001b[1m1s\u001b[0m 6ms/step - accuracy: 0.8158 - auc: 0.7626 - loss: 0.4413 - val_accuracy: 0.8208 - val_auc: 0.7663 - val_loss: 0.4362\n",
      "Epoch 18/20\n",
      "\u001b[1m94/94\u001b[0m \u001b[32m━━━━━━━━━━━━━━━━━━━━\u001b[0m\u001b[37m\u001b[0m \u001b[1m1s\u001b[0m 6ms/step - accuracy: 0.8181 - auc: 0.7688 - loss: 0.4374 - val_accuracy: 0.8212 - val_auc: 0.7663 - val_loss: 0.4367\n",
      "Epoch 19/20\n",
      "\u001b[1m94/94\u001b[0m \u001b[32m━━━━━━━━━━━━━━━━━━━━\u001b[0m\u001b[37m\u001b[0m \u001b[1m1s\u001b[0m 6ms/step - accuracy: 0.8197 - auc: 0.7743 - loss: 0.4326 - val_accuracy: 0.8190 - val_auc: 0.7667 - val_loss: 0.4373\n",
      "Epoch 20/20\n",
      "\u001b[1m94/94\u001b[0m \u001b[32m━━━━━━━━━━━━━━━━━━━━\u001b[0m\u001b[37m\u001b[0m \u001b[1m1s\u001b[0m 6ms/step - accuracy: 0.8199 - auc: 0.7692 - loss: 0.4373 - val_accuracy: 0.8210 - val_auc: 0.7658 - val_loss: 0.4366\n"
     ]
    }
   ],
   "source": [
    "best_model = tuner.hypermodel.build(best_hps)\n",
    "history_best = best_model.fit(\n",
    "    X_train, y_train,\n",
    "    validation_data=(X_test, y_test),\n",
    "    epochs=20,\n",
    "    batch_size=256\n",
    ")\n"
   ]
  },
  {
   "cell_type": "markdown",
   "id": "c497caa6",
   "metadata": {
    "papermill": {
     "duration": 0.029026,
     "end_time": "2025-09-15T11:03:39.641029",
     "exception": false,
     "start_time": "2025-09-15T11:03:39.612003",
     "status": "completed"
    },
    "tags": []
   },
   "source": [
    "**🔹Step 6 — Evaluation & Calibration Code**"
   ]
  },
  {
   "cell_type": "code",
   "execution_count": 21,
   "id": "e7e605e9",
   "metadata": {
    "execution": {
     "iopub.execute_input": "2025-09-15T11:03:39.704226Z",
     "iopub.status.busy": "2025-09-15T11:03:39.703910Z",
     "iopub.status.idle": "2025-09-15T11:03:39.820605Z",
     "shell.execute_reply": "2025-09-15T11:03:39.819718Z"
    },
    "papermill": {
     "duration": 0.149067,
     "end_time": "2025-09-15T11:03:39.822409",
     "exception": false,
     "start_time": "2025-09-15T11:03:39.673342",
     "status": "completed"
    },
    "tags": []
   },
   "outputs": [],
   "source": [
    "import numpy as np\n",
    "import matplotlib.pyplot as plt\n",
    "from sklearn.metrics import (\n",
    "    roc_auc_score, roc_curve, precision_recall_curve, average_precision_score,\n",
    "    confusion_matrix, classification_report, precision_score, f1_score, brier_score_loss\n",
    ")\n",
    "from sklearn.calibration import calibration_curve"
   ]
  },
  {
   "cell_type": "code",
   "execution_count": 22,
   "id": "90786f15",
   "metadata": {
    "execution": {
     "iopub.execute_input": "2025-09-15T11:03:39.883422Z",
     "iopub.status.busy": "2025-09-15T11:03:39.883123Z",
     "iopub.status.idle": "2025-09-15T11:03:40.397516Z",
     "shell.execute_reply": "2025-09-15T11:03:40.396411Z"
    },
    "papermill": {
     "duration": 0.546607,
     "end_time": "2025-09-15T11:03:40.399175",
     "exception": false,
     "start_time": "2025-09-15T11:03:39.852568",
     "status": "completed"
    },
    "tags": []
   },
   "outputs": [
    {
     "name": "stdout",
     "output_type": "stream",
     "text": [
      "\u001b[1m188/188\u001b[0m \u001b[32m━━━━━━━━━━━━━━━━━━━━\u001b[0m\u001b[37m\u001b[0m \u001b[1m0s\u001b[0m 1ms/step\n"
     ]
    }
   ],
   "source": [
    "# ---- Use best_model for evaluation ----\n",
    "y_pred_proba = best_model.predict(X_test).ravel()\n",
    "y_pred_class = (y_pred_proba >= 0.5).astype(int)\n",
    "\n",
    "# ===== ROC-AUC =====\n",
    "roc_auc = roc_auc_score(y_test, y_pred_proba)\n",
    "fpr, tpr, _ = roc_curve(y_test, y_pred_proba)\n",
    "\n"
   ]
  },
  {
   "cell_type": "code",
   "execution_count": 23,
   "id": "9e1dd5a0",
   "metadata": {
    "execution": {
     "iopub.execute_input": "2025-09-15T11:03:40.459708Z",
     "iopub.status.busy": "2025-09-15T11:03:40.459308Z",
     "iopub.status.idle": "2025-09-15T11:03:40.647412Z",
     "shell.execute_reply": "2025-09-15T11:03:40.646350Z"
    },
    "papermill": {
     "duration": 0.22036,
     "end_time": "2025-09-15T11:03:40.649193",
     "exception": false,
     "start_time": "2025-09-15T11:03:40.428833",
     "status": "completed"
    },
    "tags": []
   },
   "outputs": [
    {
     "data": {
      "image/png": "[encoded data removed]",
      "text/plain": [
       "<Figure size 600x600 with 1 Axes>"
      ]
     },
     "metadata": {},
     "output_type": "display_data"
    }
   ],
   "source": [
    "\n",
    "# ================== ROC-AUC ==================\n",
    "roc_auc = roc_auc_score(y_test, y_pred_proba)\n",
    "fpr, tpr, _ = roc_curve(y_test, y_pred_proba)   # <-- This defines fpr, tpr\n",
    "\n",
    "plt.figure(figsize=(6,6))\n",
    "plt.plot(fpr, tpr, label=f\"ROC-AUC = {roc_auc:.3f}\")\n",
    "plt.plot([0,1],[0,1],'--',color='grey')\n",
    "plt.xlabel(\"False Positive Rate\")\n",
    "plt.ylabel(\"True Positive Rate\")\n",
    "plt.title(\"ROC Curve\")\n",
    "plt.legend()\n",
    "plt.show()"
   ]
  },
  {
   "cell_type": "code",
   "execution_count": 24,
   "id": "84dc99fc",
   "metadata": {
    "execution": {
     "iopub.execute_input": "2025-09-15T11:03:40.713631Z",
     "iopub.status.busy": "2025-09-15T11:03:40.713277Z",
     "iopub.status.idle": "2025-09-15T11:03:40.911476Z",
     "shell.execute_reply": "2025-09-15T11:03:40.910576Z"
    },
    "papermill": {
     "duration": 0.232592,
     "end_time": "2025-09-15T11:03:40.913046",
     "exception": false,
     "start_time": "2025-09-15T11:03:40.680454",
     "status": "completed"
    },
    "tags": []
   },
   "outputs": [
    {
     "data": {
      "image/png": "[encoded data removed]",
      "text/plain": [
       "<Figure size 600x600 with 1 Axes>"
      ]
     },
     "metadata": {},
     "output_type": "display_data"
    }
   ],
   "source": [
    "# ================== Precision-Recall ==================\n",
    "avg_prec = average_precision_score(y_test, y_pred_proba)\n",
    "prec, rec, _ = precision_recall_curve(y_test, y_pred_proba)\n",
    "\n",
    "plt.figure(figsize=(6,6))\n",
    "plt.plot(rec, prec, label=f\"AP = {avg_prec:.3f}\")\n",
    "plt.xlabel(\"Recall\")\n",
    "plt.ylabel(\"Precision\")\n",
    "plt.title(\"Precision-Recall Curve\")\n",
    "plt.legend()\n",
    "plt.show()"
   ]
  },
  {
   "cell_type": "code",
   "execution_count": 25,
   "id": "94c42600",
   "metadata": {
    "execution": {
     "iopub.execute_input": "2025-09-15T11:03:40.980137Z",
     "iopub.status.busy": "2025-09-15T11:03:40.979785Z",
     "iopub.status.idle": "2025-09-15T11:03:41.009475Z",
     "shell.execute_reply": "2025-09-15T11:03:41.008332Z"
    },
    "papermill": {
     "duration": 0.065235,
     "end_time": "2025-09-15T11:03:41.011189",
     "exception": false,
     "start_time": "2025-09-15T11:03:40.945954",
     "status": "completed"
    },
    "tags": []
   },
   "outputs": [
    {
     "name": "stdout",
     "output_type": "stream",
     "text": [
      "Confusion Matrix:\n",
      " [[4430  243]\n",
      " [ 831  496]]\n",
      "\n",
      "Classification Report:\n",
      "               precision    recall  f1-score   support\n",
      "\n",
      "           0       0.84      0.95      0.89      4673\n",
      "           1       0.67      0.37      0.48      1327\n",
      "\n",
      "    accuracy                           0.82      6000\n",
      "   macro avg       0.76      0.66      0.69      6000\n",
      "weighted avg       0.80      0.82      0.80      6000\n",
      "\n",
      "Precision@10%: 0.683\n",
      "F1 Score: 0.480\n"
     ]
    }
   ],
   "source": [
    "# ================== Confusion Matrix & Report ==================\n",
    "cm = confusion_matrix(y_test, y_pred_class)\n",
    "print(\"Confusion Matrix:\\n\", cm)\n",
    "print(\"\\nClassification Report:\\n\", classification_report(y_test, y_pred_class))\n",
    "\n",
    "# ================== Precision@k (top 10%) ==================\n",
    "k = int(0.10 * len(y_pred_proba))\n",
    "top_k_idx = np.argsort(y_pred_proba)[-k:]\n",
    "precision_at_k = precision_score(y_test.iloc[top_k_idx], y_pred_class[top_k_idx])\n",
    "print(f\"Precision@10%: {precision_at_k:.3f}\")\n",
    "\n",
    "# ================== F1 Score ==================\n",
    "f1 = f1_score(y_test, y_pred_class)\n",
    "print(f\"F1 Score: {f1:.3f}\")\n"
   ]
  },
  {
   "cell_type": "code",
   "execution_count": 26,
   "id": "6029c3a1",
   "metadata": {
    "execution": {
     "iopub.execute_input": "2025-09-15T11:03:41.079078Z",
     "iopub.status.busy": "2025-09-15T11:03:41.078751Z",
     "iopub.status.idle": "2025-09-15T11:03:41.259617Z",
     "shell.execute_reply": "2025-09-15T11:03:41.258667Z"
    },
    "papermill": {
     "duration": 0.216566,
     "end_time": "2025-09-15T11:03:41.261172",
     "exception": false,
     "start_time": "2025-09-15T11:03:41.044606",
     "status": "completed"
    },
    "tags": []
   },
   "outputs": [
    {
     "data": {
      "image/png": "[encoded data removed]",
      "text/plain": [
       "<Figure size 600x600 with 1 Axes>"
      ]
     },
     "metadata": {},
     "output_type": "display_data"
    }
   ],
   "source": [
    "# ================== Calibration Curve ==================\n",
    "prob_true, prob_pred = calibration_curve(y_test, y_pred_proba, n_bins=10, strategy='quantile')\n",
    "\n",
    "plt.figure(figsize=(6,6))\n",
    "plt.plot(prob_pred, prob_true, marker='o', label='Model')\n",
    "plt.plot([0,1],[0,1],'--', color='grey')\n",
    "plt.xlabel('Predicted Probability')\n",
    "plt.ylabel('Observed Frequency')\n",
    "plt.title('Calibration Curve')\n",
    "plt.legend()\n",
    "plt.show()"
   ]
  },
  {
   "cell_type": "code",
   "execution_count": 27,
   "id": "c3a63359",
   "metadata": {
    "execution": {
     "iopub.execute_input": "2025-09-15T11:03:41.331848Z",
     "iopub.status.busy": "2025-09-15T11:03:41.331047Z",
     "iopub.status.idle": "2025-09-15T11:03:41.337294Z",
     "shell.execute_reply": "2025-09-15T11:03:41.336430Z"
    },
    "papermill": {
     "duration": 0.04265,
     "end_time": "2025-09-15T11:03:41.338605",
     "exception": false,
     "start_time": "2025-09-15T11:03:41.295955",
     "status": "completed"
    },
    "tags": []
   },
   "outputs": [
    {
     "name": "stdout",
     "output_type": "stream",
     "text": [
      "Brier Score: 0.1371\n"
     ]
    }
   ],
   "source": [
    "# ================== Brier Score ==================\n",
    "brier = brier_score_loss(y_test, y_pred_proba)\n",
    "print(f\"Brier Score: {brier:.4f}\")"
   ]
  },
  {
   "cell_type": "markdown",
   "id": "fb1e2f21",
   "metadata": {
    "papermill": {
     "duration": 0.034104,
     "end_time": "2025-09-15T11:03:41.406956",
     "exception": false,
     "start_time": "2025-09-15T11:03:41.372852",
     "status": "completed"
    },
    "tags": []
   },
   "source": [
    "**🔹Step 7 — SHAP Explainability Code**\n",
    "\n",
    "📌 Before running, install SHAP once (if not installed):"
   ]
  },
  {
   "cell_type": "code",
   "execution_count": 28,
   "id": "54dac8d8",
   "metadata": {
    "execution": {
     "iopub.execute_input": "2025-09-15T11:03:41.476937Z",
     "iopub.status.busy": "2025-09-15T11:03:41.476621Z",
     "iopub.status.idle": "2025-09-15T11:03:45.259092Z",
     "shell.execute_reply": "2025-09-15T11:03:45.257865Z"
    },
    "papermill": {
     "duration": 3.82019,
     "end_time": "2025-09-15T11:03:45.261244",
     "exception": false,
     "start_time": "2025-09-15T11:03:41.441054",
     "status": "completed"
    },
    "tags": []
   },
   "outputs": [],
   "source": [
    "!pip install shap --quiet\n"
   ]
  },
  {
   "cell_type": "code",
   "execution_count": 29,
   "id": "a5c24c20",
   "metadata": {
    "execution": {
     "iopub.execute_input": "2025-09-15T11:03:45.331160Z",
     "iopub.status.busy": "2025-09-15T11:03:45.330811Z",
     "iopub.status.idle": "2025-09-15T11:03:53.443864Z",
     "shell.execute_reply": "2025-09-15T11:03:53.442912Z"
    },
    "papermill": {
     "duration": 8.150062,
     "end_time": "2025-09-15T11:03:53.445413",
     "exception": false,
     "start_time": "2025-09-15T11:03:45.295351",
     "status": "completed"
    },
    "tags": []
   },
   "outputs": [],
   "source": [
    "import shap\n",
    "import tensorflow as tf\n",
    "import numpy as np\n",
    "import pandas as pd\n"
   ]
  },
  {
   "cell_type": "code",
   "execution_count": 30,
   "id": "0f94d5c5",
   "metadata": {
    "execution": {
     "iopub.execute_input": "2025-09-15T11:03:53.516118Z",
     "iopub.status.busy": "2025-09-15T11:03:53.515185Z",
     "iopub.status.idle": "2025-09-15T11:04:02.562055Z",
     "shell.execute_reply": "2025-09-15T11:04:02.561062Z"
    },
    "papermill": {
     "duration": 9.084453,
     "end_time": "2025-09-15T11:04:02.564635",
     "exception": false,
     "start_time": "2025-09-15T11:03:53.480182",
     "status": "completed"
    },
    "tags": []
   },
   "outputs": [
    {
     "data": {
      "image/png": "[encoded data removed]",
      "text/plain": [
       "<Figure size 800x950 with 2 Axes>"
      ]
     },
     "metadata": {},
     "output_type": "display_data"
    }
   ],
   "source": [
    "import shap\n",
    "import numpy as np\n",
    "import matplotlib.pyplot as plt\n",
    "\n",
    "# Small background\n",
    "idx_bg = np.random.choice(X_train.shape[0], 100, replace=False)\n",
    "background = X_train[idx_bg]\n",
    "\n",
    "# Auto-select the right explainer\n",
    "explainer = shap.Explainer(model, background)\n",
    "\n",
    "# Test samples\n",
    "idx_test = np.random.choice(X_test.shape[0], 50, replace=False)\n",
    "test_sample = X_test[idx_test]\n",
    "\n",
    "# SHAP values\n",
    "shap_values = explainer(test_sample)\n",
    "\n",
    "# Plot\n",
    "shap.summary_plot(shap_values, test_sample)\n"
   ]
  },
  {
   "cell_type": "markdown",
   "id": "2348f8cf",
   "metadata": {
    "papermill": {
     "duration": 0.035462,
     "end_time": "2025-09-15T11:04:02.638584",
     "exception": false,
     "start_time": "2025-09-15T11:04:02.603122",
     "status": "completed"
    },
    "tags": []
   },
   "source": [
    "**🔹Step 8 — Save & Version the Model**"
   ]
  },
  {
   "cell_type": "code",
   "execution_count": 31,
   "id": "993aa787",
   "metadata": {
    "execution": {
     "iopub.execute_input": "2025-09-15T11:04:02.711122Z",
     "iopub.status.busy": "2025-09-15T11:04:02.710565Z",
     "iopub.status.idle": "2025-09-15T11:04:02.757590Z",
     "shell.execute_reply": "2025-09-15T11:04:02.756709Z"
    },
    "papermill": {
     "duration": 0.085088,
     "end_time": "2025-09-15T11:04:02.759132",
     "exception": false,
     "start_time": "2025-09-15T11:04:02.674044",
     "status": "completed"
    },
    "tags": []
   },
   "outputs": [
    {
     "name": "stdout",
     "output_type": "stream",
     "text": [
      "✅ Model saved successfully at saved_models/credit_default_model_v1.pkl\n"
     ]
    }
   ],
   "source": [
    "import joblib\n",
    "import os\n",
    "\n",
    "# Directory to store models\n",
    "MODEL_DIR = \"saved_models\"\n",
    "os.makedirs(MODEL_DIR, exist_ok=True)\n",
    "\n",
    "# Define version (can be number or date-based)\n",
    "version = \"v1\"  \n",
    "\n",
    "# Filepath for saving\n",
    "model_path = os.path.join(MODEL_DIR, f\"credit_default_model_{version}.pkl\")\n",
    "\n",
    "# Save the model\n",
    "joblib.dump(model, model_path)\n",
    "\n",
    "print(f\"✅ Model saved successfully at {model_path}\")\n"
   ]
  },
  {
   "cell_type": "code",
   "execution_count": 32,
   "id": "5e60cc68",
   "metadata": {
    "execution": {
     "iopub.execute_input": "2025-09-15T11:04:02.833157Z",
     "iopub.status.busy": "2025-09-15T11:04:02.832513Z",
     "iopub.status.idle": "2025-09-15T11:04:02.867311Z",
     "shell.execute_reply": "2025-09-15T11:04:02.866527Z"
    },
    "papermill": {
     "duration": 0.073797,
     "end_time": "2025-09-15T11:04:02.868987",
     "exception": false,
     "start_time": "2025-09-15T11:04:02.795190",
     "status": "completed"
    },
    "tags": []
   },
   "outputs": [],
   "source": [
    "# Save the model in HDF5 format\n",
    "model.save(\"model.keras\")  # adds .keras extension\n",
    "\n",
    "# OR, SavedModel format\n",
    "#model.save(\"saved_model/\")\n"
   ]
  },
  {
   "cell_type": "code",
   "execution_count": 33,
   "id": "78dcaebc",
   "metadata": {
    "execution": {
     "iopub.execute_input": "2025-09-15T11:04:02.943026Z",
     "iopub.status.busy": "2025-09-15T11:04:02.942169Z",
     "iopub.status.idle": "2025-09-15T11:04:02.979885Z",
     "shell.execute_reply": "2025-09-15T11:04:02.978820Z"
    },
    "papermill": {
     "duration": 0.075648,
     "end_time": "2025-09-15T11:04:02.981380",
     "exception": false,
     "start_time": "2025-09-15T11:04:02.905732",
     "status": "completed"
    },
    "tags": []
   },
   "outputs": [
    {
     "name": "stdout",
     "output_type": "stream",
     "text": [
      "Scaler saved successfully.\n",
      "No encoder found, skipping encoder save.\n",
      "No feature_list found, skipping save.\n"
     ]
    }
   ],
   "source": [
    "import joblib\n",
    "\n",
    "# Save the trained model (Keras)\n",
    "model.save(\"model.keras\")  # or model.save(\"model.h5\")\n",
    "\n",
    "# Save the scaler if it exists\n",
    "try:\n",
    "    joblib.dump(scaler, \"scaler.pkl\")\n",
    "    print(\"Scaler saved successfully.\")\n",
    "except NameError:\n",
    "    print(\"No scaler found, skipping scaler save.\")\n",
    "\n",
    "# Save the encoder if it exists\n",
    "try:\n",
    "    joblib.dump(encoder, \"encoder.pkl\")\n",
    "    print(\"Encoder saved successfully.\")\n",
    "except NameError:\n",
    "    print(\"No encoder found, skipping encoder save.\")\n",
    "\n",
    "# Save the feature list if it exists\n",
    "try:\n",
    "    joblib.dump(feature_list, \"feature_list.pkl\")\n",
    "    print(\"Feature list saved successfully.\")\n",
    "except NameError:\n",
    "    print(\"No feature_list found, skipping save.\")\n"
   ]
  },
  {
   "cell_type": "code",
   "execution_count": 34,
   "id": "aa0b2d42",
   "metadata": {
    "execution": {
     "iopub.execute_input": "2025-09-15T11:04:03.054810Z",
     "iopub.status.busy": "2025-09-15T11:04:03.054025Z",
     "iopub.status.idle": "2025-09-15T11:04:03.089402Z",
     "shell.execute_reply": "2025-09-15T11:04:03.088698Z"
    },
    "papermill": {
     "duration": 0.073845,
     "end_time": "2025-09-15T11:04:03.091151",
     "exception": false,
     "start_time": "2025-09-15T11:04:03.017306",
     "status": "completed"
    },
    "tags": []
   },
   "outputs": [],
   "source": [
    "import joblib\n",
    "\n",
    "# Save model\n",
    "model.save(\"model.keras\")  # or \"model.h5\"\n",
    "\n",
    "# Save scaler if it exists\n",
    "if 'scaler' in globals():\n",
    "    joblib.dump(scaler, \"scaler.pkl\")\n",
    "\n",
    "# Save feature list if it exists\n",
    "if 'feature_list' in globals():\n",
    "    joblib.dump(feature_list, \"feature_list.pkl\")\n"
   ]
  },
  {
   "cell_type": "markdown",
   "id": "e6e13c73",
   "metadata": {
    "papermill": {
     "duration": 0.035806,
     "end_time": "2025-09-15T11:04:03.162965",
     "exception": false,
     "start_time": "2025-09-15T11:04:03.127159",
     "status": "completed"
    },
    "tags": []
   },
   "source": []
  },
  {
   "cell_type": "code",
   "execution_count": 35,
   "id": "ffc97666",
   "metadata": {
    "execution": {
     "iopub.execute_input": "2025-09-15T11:04:03.235897Z",
     "iopub.status.busy": "2025-09-15T11:04:03.235193Z",
     "iopub.status.idle": "2025-09-15T11:04:03.271862Z",
     "shell.execute_reply": "2025-09-15T11:04:03.270850Z"
    },
    "papermill": {
     "duration": 0.074555,
     "end_time": "2025-09-15T11:04:03.273268",
     "exception": false,
     "start_time": "2025-09-15T11:04:03.198713",
     "status": "completed"
    },
    "tags": []
   },
   "outputs": [
    {
     "name": "stdout",
     "output_type": "stream",
     "text": [
      "Artifacts saved in /kaggle/working/artifacts/\n"
     ]
    }
   ],
   "source": [
    "import joblib, json, os\n",
    "from tensorflow import keras\n",
    "\n",
    "os.makedirs('/kaggle/working/artifacts', exist_ok=True)\n",
    "\n",
    "# Save model\n",
    "best_model.save('/kaggle/working/artifacts/credit_model.h5')\n",
    "\n",
    "# Save scaler\n",
    "joblib.dump(scaler, '/kaggle/working/artifacts/scaler.gz')\n",
    "\n",
    "# Save features list\n",
    "FEATURES = [c for c in df.columns if c not in ['ID', 'default.payment.next.month']]\n",
    "json.dump(FEATURES, open('/kaggle/working/artifacts/features_list.json', 'w'))\n",
    "\n",
    "print(\"Artifacts saved in /kaggle/working/artifacts/\")\n"
   ]
  },
  {
   "cell_type": "code",
   "execution_count": 36,
   "id": "ba96141c",
   "metadata": {
    "execution": {
     "iopub.execute_input": "2025-09-15T11:04:03.346897Z",
     "iopub.status.busy": "2025-09-15T11:04:03.345961Z",
     "iopub.status.idle": "2025-09-15T11:04:03.379955Z",
     "shell.execute_reply": "2025-09-15T11:04:03.379170Z"
    },
    "papermill": {
     "duration": 0.072262,
     "end_time": "2025-09-15T11:04:03.381580",
     "exception": false,
     "start_time": "2025-09-15T11:04:03.309318",
     "status": "completed"
    },
    "tags": []
   },
   "outputs": [],
   "source": [
    "import pickle\n",
    "\n",
    "# Save the trained model\n",
    "with open(\"model.pkl\", \"wb\") as f:\n",
    "    pickle.dump(model, f)\n"
   ]
  },
  {
   "cell_type": "code",
   "execution_count": 37,
   "id": "ab8b12d0",
   "metadata": {
    "execution": {
     "iopub.execute_input": "2025-09-15T11:04:03.457332Z",
     "iopub.status.busy": "2025-09-15T11:04:03.456569Z",
     "iopub.status.idle": "2025-09-15T11:04:03.461456Z",
     "shell.execute_reply": "2025-09-15T11:04:03.460543Z"
    },
    "papermill": {
     "duration": 0.044577,
     "end_time": "2025-09-15T11:04:03.462977",
     "exception": false,
     "start_time": "2025-09-15T11:04:03.418400",
     "status": "completed"
    },
    "tags": []
   },
   "outputs": [
    {
     "name": "stdout",
     "output_type": "stream",
     "text": [
      "(None, 23)\n"
     ]
    }
   ],
   "source": [
    "print(model.input_shape)\n"
   ]
  },
  {
   "cell_type": "code",
   "execution_count": null,
   "id": "08e524f2",
   "metadata": {
    "papermill": {
     "duration": 0.036115,
     "end_time": "2025-09-15T11:04:03.535644",
     "exception": false,
     "start_time": "2025-09-15T11:04:03.499529",
     "status": "completed"
    },
    "tags": []
   },
   "outputs": [],
   "source": []
  }
 ],
 "metadata": {
  "kaggle": {
   "accelerator": "none",
   "dataSources": [
    {
     "datasetId": 8274196,
     "sourceId": 13065487,
     "sourceType": "datasetVersion"
    }
   ],
   "dockerImageVersionId": 31089,
   "isGpuEnabled": false,
   "isInternetEnabled": true,
   "language": "python",
   "sourceType": "notebook"
  },
  "kernelspec": {
   "display_name": "Python 3",
   "language": "python",
   "name": "python3"
  },
  "language_info": {
   "codemirror_mode": {
    "name": "ipython",
    "version": 3
   },
   "file_extension": ".py",
   "mimetype": "text/x-python",
   "name": "python",
   "nbconvert_exporter": "python",
   "pygments_lexer": "ipython3",
   "version": "3.11.13"
  },
  "papermill": {
   "default_parameters": {},
   "duration": 206.321395,
   "end_time": "2025-09-15T11:04:06.602869",
   "environment_variables": {},
   "exception": null,
   "input_path": "__notebook__.ipynb",
   "output_path": "__notebook__.ipynb",
   "parameters": {},
   "start_time": "2025-09-15T11:00:40.281474",
   "version": "2.6.0"
  }
 },
 "nbformat": 4,
 "nbformat_minor": 5
}
